{
 "cells": [
  {
   "cell_type": "markdown",
   "id": "15252706",
   "metadata": {},
   "source": [
    "# Title:"
   ]
  },
  {
   "cell_type": "markdown",
   "id": "386e4e67",
   "metadata": {},
   "source": [
    "Finding Similar Questions in MySQL Database using Sentence Transformer\n"
   ]
  },
  {
   "cell_type": "markdown",
   "id": "727667bb",
   "metadata": {},
   "source": [
    "## Introduction:\n",
    "This notebook demonstrates how to use the Sentence Transformer model to find similar questions in a MySQL database. \n",
    "The Sentence Transformer model will encode the questions into embeddings, and then the cosine similarity will be used to measure the similarity between pairs of questions."
   ]
  },
  {
   "cell_type": "markdown",
   "id": "a7f6f48d",
   "metadata": {},
   "source": [
    "## Purpose:\n",
    "Similarity Check for Questions:"
   ]
  },
  {
   "cell_type": "markdown",
   "id": "32be3b2d",
   "metadata": {},
   "source": [
    "1. To detect similar or duplicate questions in question banks or assessments"
   ]
  },
  {
   "cell_type": "markdown",
   "id": "b61eb3b1",
   "metadata": {},
   "source": [
    "2. Ensuring fairness"
   ]
  },
  {
   "cell_type": "markdown",
   "id": "b35c7c73",
   "metadata": {},
   "source": [
    "3. Maintaining question diversity, and "
   ]
  },
  {
   "cell_type": "markdown",
   "id": "fb99658c",
   "metadata": {},
   "source": [
    "4. Enhancing the quality of exams."
   ]
  },
  {
   "cell_type": "markdown",
   "id": "163c2348",
   "metadata": {},
   "source": [
    "## For Example:\n",
    "Let's consider a real-world example in the context of question generation and exam assessment:"
   ]
  },
  {
   "cell_type": "markdown",
   "id": "8a717edb",
   "metadata": {},
   "source": [
    "Imagine you are an educator or an assessment platform that creates exams with multiple-choice questions. Over time, as you create new exams or update existing ones, there is a chance of inadvertently generating similar questions or using questions from previous exams with slight modifications."
   ]
  },
  {
   "cell_type": "markdown",
   "id": "d6b247ee",
   "metadata": {},
   "source": [
    "Here's how the similarity check can be valuable in this scenario:"
   ]
  },
  {
   "cell_type": "markdown",
   "id": "f16b5265",
   "metadata": {},
   "source": [
    "1. Duplicate Question Detection:\n",
    "Identify pairs of questions that have similar content or are nearly identical."
   ]
  },
  {
   "cell_type": "markdown",
   "id": "870db6a7",
   "metadata": {},
   "source": [
    "2. Quality Assurance:\n",
    "To review questions that might be too similar to each other, helping you maintain the quality and diversity of questions in an exam. This ensures that the assessment evaluates different aspects of students' knowledge and understanding.\n",
    "\n"
   ]
  },
  {
   "cell_type": "markdown",
   "id": "8f722d49",
   "metadata": {},
   "source": [
    "3.  Question Pool Maintenance: \n",
    "As you accumulate a large question pool over time, the similarity check helps you organize and manage the questions efficiently. You can group similar questions together, making it easier to select questions for future exams."
   ]
  },
  {
   "cell_type": "markdown",
   "id": "5b696b91",
   "metadata": {},
   "source": [
    " This approach helps educators and assessment platforms continuously improve their question banks and assessments over time."
   ]
  },
  {
   "cell_type": "markdown",
   "id": "bde50319",
   "metadata": {},
   "source": [
    "## Setup\n",
    "First, we'll import the necessary libraries and load the Sentence Transformer model.\n"
   ]
  },
  {
   "cell_type": "code",
   "execution_count": 1,
   "id": "25564fa2",
   "metadata": {},
   "outputs": [
    {
     "name": "stderr",
     "output_type": "stream",
     "text": [
      "<frozen importlib._bootstrap>:228: RuntimeWarning: scipy._lib.messagestream.MessageStream size changed, may indicate binary incompatibility. Expected 56 from C header, got 64 from PyObject\n"
     ]
    }
   ],
   "source": [
    "import mysql.connector\n",
    "from sentence_transformers import SentenceTransformer, util"
   ]
  },
  {
   "cell_type": "code",
   "execution_count": 2,
   "id": "b8c5ee80",
   "metadata": {},
   "outputs": [],
   "source": [
    "# Load pre-trained sentence transformer model\n",
    "model = SentenceTransformer('paraphrase-MiniLM-L6-v2')"
   ]
  },
  {
   "cell_type": "markdown",
   "id": "61962c5b",
   "metadata": {},
   "source": [
    "## Data Connection\n",
    "To begin, let's connect to the MySQL database and fetch the questions."
   ]
  },
  {
   "cell_type": "code",
   "execution_count": 3,
   "id": "76038fdc",
   "metadata": {},
   "outputs": [
    {
     "name": "stdout",
     "output_type": "stream",
     "text": [
      "Connected to the MySQL database!\n"
     ]
    }
   ],
   "source": [
    "try:\n",
    "    # Connect to the MySQL database\n",
    "    connection = mysql.connector.connect(\n",
    "        host=\"localhost\",\n",
    "        user=\"root\",\n",
    "        password=\"Shweta9967013742\",\n",
    "        database=\"test\"\n",
    "    )\n",
    "\n",
    "    if connection.is_connected():\n",
    "        print(\"Connected to the MySQL database!\")\n",
    "\n",
    "    # Fetch all questions and their question numbers from the database\n",
    "    cursor = connection.cursor()\n",
    "    cursor.execute(\"SELECT `Question No`, `Question` FROM `mcq_questions`\")\n",
    "    questions = cursor.fetchall()\n",
    "\n",
    "except mysql.connector.Error as error:\n",
    "    print(\"Error while connecting to the MySQL database:\", error)\n"
   ]
  },
  {
   "cell_type": "markdown",
   "id": "03bb3557",
   "metadata": {},
   "source": [
    "## Similarity Check\n",
    "Now, let's perform the similarity check between the questions and store the similar question indices."
   ]
  },
  {
   "cell_type": "code",
   "execution_count": 11,
   "id": "e089b00b",
   "metadata": {},
   "outputs": [],
   "source": [
    "# Perform similarity check and store similar question pairs with similarity scores\n",
    "similarity_threshold = 0.8\n",
    "similar_question_pairs = []\n",
    "for i, (qid1, q1) in enumerate(questions):\n",
    "    for j, (qid2, q2) in enumerate(questions[i+1:], i+1):\n",
    "        embeddings = model.encode([q1, q2], convert_to_tensor=True)\n",
    "        similarity_score = util.pytorch_cos_sim(embeddings[0], embeddings[1])\n",
    "        if similarity_score > similarity_threshold:\n",
    "            similar_question_pairs.append((qid1, qid2, similarity_score.item()))"
   ]
  },
  {
   "cell_type": "markdown",
   "id": "3e5f0c3a",
   "metadata": {},
   "source": [
    "## Results\n",
    "Let's print out the similar question pairs (question numbers) found."
   ]
  },
  {
   "cell_type": "code",
   "execution_count": 12,
   "id": "c7bb42b4",
   "metadata": {},
   "outputs": [
    {
     "name": "stdout",
     "output_type": "stream",
     "text": [
      "Similar question pairs with similarity percentage:\n",
      "Question 1 and Question 1: 100.00% similar\n",
      "Question 2 and Question 2: 100.00% similar\n"
     ]
    }
   ],
   "source": [
    "if similar_question_pairs:\n",
    "    print(\"Similar question pairs with similarity percentage:\")\n",
    "    for qid1, qid2, similarity_score in similar_question_pairs:\n",
    "        similarity_percentage = similarity_score * 100\n",
    "        print(f\"Question {qid1} and Question {qid2}: {similarity_percentage:.2f}% similar\")\n",
    "else:\n",
    "    print(\"No similar questions found.\")\n"
   ]
  },
  {
   "cell_type": "markdown",
   "id": "093e1db6",
   "metadata": {},
   "source": [
    "## Conclusion\n",
    "In this notebook, we successfully connected to the MySQL database, fetched questions, and used the Sentence Transformer model to find similar question pairs. The Sentence Transformer model's embeddings and cosine similarity allowed us to identify questions with similar semantic meanings.\n",
    "\n",
    "## References\n",
    "Sentence Transformers Documentation: Link-https://www.sbert.net/\n",
    "\n",
    "\n",
    "\n",
    "MySQL Connector/Python Documentation: Link-https://dev.mysql.com/doc/connector-python/en/"
   ]
  },
  {
   "cell_type": "code",
   "execution_count": null,
   "id": "41205ce0",
   "metadata": {},
   "outputs": [],
   "source": []
  }
 ],
 "metadata": {
  "kernelspec": {
   "display_name": "Python 3 (ipykernel)",
   "language": "python",
   "name": "python3"
  },
  "language_info": {
   "codemirror_mode": {
    "name": "ipython",
    "version": 3
   },
   "file_extension": ".py",
   "mimetype": "text/x-python",
   "name": "python",
   "nbconvert_exporter": "python",
   "pygments_lexer": "ipython3",
   "version": "3.9.12"
  }
 },
 "nbformat": 4,
 "nbformat_minor": 5
}
